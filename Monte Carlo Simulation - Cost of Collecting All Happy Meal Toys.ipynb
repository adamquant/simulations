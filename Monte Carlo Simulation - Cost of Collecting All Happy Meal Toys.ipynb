{
 "cells": [
  {
   "cell_type": "markdown",
   "metadata": {},
   "source": [
    "# Monte Carlo Simulation function to determine how much all 10 toys will cost us parents!!!"
   ]
  },
  {
   "cell_type": "code",
   "execution_count": 1,
   "metadata": {},
   "outputs": [],
   "source": [
    "import random\n",
    "\n",
    "def collect_all_toys(toys, simulations, cost):\n",
    "    total_buys = 0\n",
    "    total_spend = 0\n",
    "    for i in range(simulations):\n",
    "        collected = []\n",
    "        total, buys = 0, 0\n",
    "        while len(collected) < toys:\n",
    "            result = random.choice(range(1,(toys+1)))\n",
    "            if result not in collected:\n",
    "                collected.append(result)\n",
    "            buys += 1\n",
    "\n",
    "        total = buys*cost\n",
    "        total_buys += buys\n",
    "        total_spend += total\n",
    "    avg_spend = total_spend / simulations\n",
    "    avg_buys = total_buys / simulations\n",
    "    print('After ' + str(simulations) + ' simulations, an average of ' + str(avg_spend) +  ' must be spent and ' + str(avg_buys) + \" Happy Meals purchased to collect \" + str(toys) + \" toys.\")\n",
    "\n"
   ]
  },
  {
   "cell_type": "code",
   "execution_count": 2,
   "metadata": {},
   "outputs": [
    {
     "name": "stdout",
     "output_type": "stream",
     "text": [
      "After 10000 simulations, an average of 81.76234500000035 must be spent and 29.3055 Happy Meals purchased to collect 10 toys.\n"
     ]
    }
   ],
   "source": [
    "#Trying the Monte Carlo function with 10 Toy Stroy toys at 2.79 GBP FOR 10,000 simulations\n",
    "\n",
    "collect_all_toys(10,10000,2.79)"
   ]
  },
  {
   "cell_type": "markdown",
   "metadata": {},
   "source": [
    "# Result\n",
    "\n",
    "## There you have it, £82 and a lot of calories to colelct all 10 toys!"
   ]
  },
  {
   "cell_type": "code",
   "execution_count": null,
   "metadata": {},
   "outputs": [],
   "source": []
  }
 ],
 "metadata": {
  "kernelspec": {
   "display_name": "Python 3",
   "language": "python",
   "name": "python3"
  },
  "language_info": {
   "codemirror_mode": {
    "name": "ipython",
    "version": 3
   },
   "file_extension": ".py",
   "mimetype": "text/x-python",
   "name": "python",
   "nbconvert_exporter": "python",
   "pygments_lexer": "ipython3",
   "version": "3.6.5"
  }
 },
 "nbformat": 4,
 "nbformat_minor": 2
}
